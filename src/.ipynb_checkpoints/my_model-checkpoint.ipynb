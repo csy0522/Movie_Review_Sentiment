{
 "cells": [
  {
   "cell_type": "code",
   "execution_count": 5,
   "metadata": {},
   "outputs": [],
   "source": [
    "from keras.models import Model\n",
    "from keras.models import Sequential\n",
    "from keras.layers import Input\n",
    "from keras.layers import Dense\n",
    "from keras.layers import Conv1D\n",
    "\n",
    "from sklearn.model_selection import train_test_split\n",
    "\n",
    "import matplotlib.pyplot as plt\n",
    "import seaborn as sns"
   ]
  },
  {
   "cell_type": "code",
   "execution_count": null,
   "metadata": {},
   "outputs": [],
   "source": [
    "class MODEL:\n",
    "    \n",
    "    def __init__(self, inputs, outputs, epochs, batch_size, layer):\n",
    "        self.input_ = inputs\n",
    "        self.outputs_ = outputs\n",
    "        self.epochs_ = epochs\n",
    "        self.batch_size_ = batch\n",
    "        self.layer_ = layer\n",
    "        \n",
    "        self.model_ = self.__build_model__()\n",
    "        \n",
    "    def __build_model__(self):\n",
    "        model = Sequential()\n",
    "        for layer in self.layer:\n",
    "            model.add(layer)\n",
    "        model.compile(optimizer='adam', loss='binary_crossentropy', metrics=['accuracy'])\n",
    "        return model\n",
    "    \n",
    "    def __plot_model__(self):\n",
    "        return self.model_.summary()\n",
    "    \n",
    "    def __train__(self, X_train, y_train, X_val, y_val):\n",
    "        self.training_info_ = self.model_.fit(x=X_train, y=y_train,\n",
    "                                             batch_size=self.batch_size_, epochs=self.epochs_,\n",
    "                                              validation_split=1, shuffle=True)\n",
    "    \n",
    "    def __plot_progress__(self, data):\n",
    "        sns.relplot(x='epochs', y='accuracy', kind='line', data=data)\n",
    "        \n",
    "    def __test__(self, X_test, y_test, plot):\n",
    "        self.test_info_ = self.model_.evaluate(X_test)\n",
    "        print(\"========================= MODEL TEST =========================\")\n",
    "        print(\"Loss test: {}\".format(self.test_info_[0]))\n",
    "        print(\"Accuracy test: {}\".format(self.test_info_[1]))\n",
    "        print(\"============================ END ============================\")\n",
    "            \n",
    "    def __predict__(self, X):\n",
    "        self.predict_info_ = self.model_.predict(X)"
   ]
  }
 ],
 "metadata": {
  "kernelspec": {
   "display_name": "Python 3",
   "language": "python",
   "name": "python3"
  },
  "language_info": {
   "codemirror_mode": {
    "name": "ipython",
    "version": 3
   },
   "file_extension": ".py",
   "mimetype": "text/x-python",
   "name": "python",
   "nbconvert_exporter": "python",
   "pygments_lexer": "ipython3",
   "version": "3.7.6"
  }
 },
 "nbformat": 4,
 "nbformat_minor": 4
}
